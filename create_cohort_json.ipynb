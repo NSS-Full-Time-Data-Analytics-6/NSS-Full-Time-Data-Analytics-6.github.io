{
 "cells": [
  {
   "cell_type": "markdown",
   "metadata": {},
   "source": [
    "To run this you will need to be at the same directory level as `utilities`\n",
    "\n",
    "If you haven't already cloned the `utilities` repo, you can find it here: https://github.com/NSS-Data-Instructional-Stuff/utilities\n",
    "\n",
    "If you run this from another location, you will have to modify the import statement accordingly"
   ]
  },
  {
   "cell_type": "code",
   "execution_count": 1,
   "metadata": {},
   "outputs": [],
   "source": [
    "from utilities import class_website"
   ]
  },
  {
   "cell_type": "code",
   "execution_count": 2,
   "metadata": {},
   "outputs": [],
   "source": [
    "path_to_csv = (\"C:/Users/14436/Documents/DDA5/NSS-Full-Time-Data-Analytics-5.github.io/dda5_class_website_info.csv\")"
   ]
  },
  {
   "cell_type": "code",
   "execution_count": 3,
   "metadata": {},
   "outputs": [
    {
     "name": "stdout",
     "output_type": "stream",
     "text": [
      "cohort.json created: C:/Users/14436/Documents/DDA5/NSS-Full-Time-Data-Analytics-5.github.io/cohort.json\n"
     ]
    }
   ],
   "source": [
    "class_website.make_cohort_json(path_to_csv)"
   ]
  },
  {
   "cell_type": "code",
   "execution_count": 4,
   "metadata": {},
   "outputs": [],
   "source": [
    "img_dir = (\"C:/Users/14436/Documents/DDA5/NSS-Full-Time-Data-Analytics-5.github.io/assets/img\")"
   ]
  },
  {
   "cell_type": "code",
   "execution_count": 5,
   "metadata": {},
   "outputs": [
    {
     "name": "stdout",
     "output_type": "stream",
     "text": [
      "max_ar:  0.9211428571428572\n",
      "new height for andrea1.jpg:  1728\n",
      "andrea2.jpg does not have dpi attribute\n",
      "new height for andreas1.jpg:  573\n",
      "andreas2.jpg does not have dpi attribute\n",
      "andreas2.png does not have dpi attribute\n",
      "andrew1.JPG does not have dpi attribute\n",
      "new height for andrew1.JPG:  413\n",
      "andrew2.jpg does not have dpi attribute\n",
      "andrew2.png does not have dpi attribute\n",
      "new height for dakota1.jpg:  1750\n",
      "dda5_class_picture.jpg does not have dpi attribute\n",
      "new height for ella1.jpg:  3642\n",
      "new height for elliot1.jpg:  438\n",
      "elliot2.jpg does not have dpi attribute\n",
      "elliot2.png does not have dpi attribute\n",
      "harrison1.jpg does not have dpi attribute\n",
      "new height for harrison1.jpg:  814\n",
      "harrison2.JPG does not have dpi attribute\n",
      "jacob1.jpeg does not have dpi attribute\n",
      "new height for jacob1.jpeg:  834\n",
      "jacob1.jpg does not have dpi attribute\n",
      "new height for jacob1.jpg:  834\n",
      "new height for milton1.jpg:  606\n",
      "myles1.jfif does not have dpi attribute\n",
      "new height for myles1.jfif:  868\n",
      "myles1.jpg does not have dpi attribute\n",
      "new height for myles1.jpg:  868\n",
      "myles2.jpg does not have dpi attribute\n",
      "myles2.png does not have dpi attribute\n",
      "new height for olariche1.jpg:  2764\n",
      "new height for pablo1.jpg:  3648\n",
      "new height for patrick1.jpg:  483\n",
      "patrick2.jpg does not have dpi attribute\n",
      "new height for pooja1.jpg:  2605\n",
      "new height for scott1.jpg:  4864\n",
      "scott2.png does not have dpi attribute\n",
      "new height for suzanne1.jpg:  2603\n",
      "new width for thomas1.jpg:  2786\n",
      "thomas2.jpg does not have dpi attribute\n",
      "thomas2.png does not have dpi attribute\n",
      "tigist1.jpg does not have dpi attribute\n",
      "new height for tigist1.jpg:  906\n",
      "tigist2.jpg does not have dpi attribute\n",
      "new height for zach1.jpg:  920\n",
      "zach2.jpg does not have dpi attribute\n",
      "zach2.png does not have dpi attribute\n",
      "prepared all images in C:/Users/14436/Documents/DDA5/NSS-Full-Time-Data-Analytics-5.github.io/assets/img\n"
     ]
    }
   ],
   "source": [
    "class_website.prepare_images(img_dir)"
   ]
  },
  {
   "cell_type": "code",
   "execution_count": null,
   "metadata": {},
   "outputs": [],
   "source": []
  }
 ],
 "metadata": {
  "kernelspec": {
   "display_name": "Python 3",
   "language": "python",
   "name": "python3"
  },
  "language_info": {
   "codemirror_mode": {
    "name": "ipython",
    "version": 3
   },
   "file_extension": ".py",
   "mimetype": "text/x-python",
   "name": "python",
   "nbconvert_exporter": "python",
   "pygments_lexer": "ipython3",
   "version": "3.8.3"
  }
 },
 "nbformat": 4,
 "nbformat_minor": 4
}
